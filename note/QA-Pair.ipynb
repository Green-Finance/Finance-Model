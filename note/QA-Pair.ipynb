{
 "cells": [
  {
   "cell_type": "code",
   "execution_count": 3,
   "metadata": {},
   "outputs": [
    {
     "name": "stdout",
     "output_type": "stream",
     "text": [
      "Collecting pandas\n",
      "  Using cached pandas-2.2.3-cp310-cp310-win_amd64.whl.metadata (19 kB)\n",
      "Collecting numpy>=1.22.4 (from pandas)\n",
      "  Using cached numpy-2.2.4-cp310-cp310-win_amd64.whl.metadata (60 kB)\n",
      "Requirement already satisfied: python-dateutil>=2.8.2 in c:\\users\\user\\desktop\\finance-model\\venv\\lib\\site-packages (from pandas) (2.9.0.post0)\n",
      "Collecting pytz>=2020.1 (from pandas)\n",
      "  Using cached pytz-2025.1-py2.py3-none-any.whl.metadata (22 kB)\n",
      "Collecting tzdata>=2022.7 (from pandas)\n",
      "  Using cached tzdata-2025.1-py2.py3-none-any.whl.metadata (1.4 kB)\n",
      "Requirement already satisfied: six>=1.5 in c:\\users\\user\\desktop\\finance-model\\venv\\lib\\site-packages (from python-dateutil>=2.8.2->pandas) (1.17.0)\n",
      "Using cached pandas-2.2.3-cp310-cp310-win_amd64.whl (11.6 MB)\n",
      "Using cached numpy-2.2.4-cp310-cp310-win_amd64.whl (12.9 MB)\n",
      "Using cached pytz-2025.1-py2.py3-none-any.whl (507 kB)\n",
      "Using cached tzdata-2025.1-py2.py3-none-any.whl (346 kB)\n",
      "Installing collected packages: pytz, tzdata, numpy, pandas\n",
      "Successfully installed numpy-2.2.4 pandas-2.2.3 pytz-2025.1 tzdata-2025.1\n"
     ]
    }
   ],
   "source": [
    "! pip install pandas"
   ]
  },
  {
   "cell_type": "code",
   "execution_count": 49,
   "metadata": {},
   "outputs": [
    {
     "data": {
      "text/plain": [
       "True"
      ]
     },
     "execution_count": 49,
     "metadata": {},
     "output_type": "execute_result"
    }
   ],
   "source": [
    "import os \n",
    "from dotenv import load_dotenv\n",
    "\n",
    "load_dotenv(\"C:/Users/user/Desktop/Finance-Model/.refine_env\")\n",
    "\n"
   ]
  },
  {
   "cell_type": "code",
   "execution_count": 34,
   "metadata": {},
   "outputs": [
    {
     "name": "stdout",
     "output_type": "stream",
     "text": [
      "Collecting python_dotenv\n",
      "  Using cached python_dotenv-1.0.1-py3-none-any.whl.metadata (23 kB)\n",
      "Using cached python_dotenv-1.0.1-py3-none-any.whl (19 kB)\n",
      "Installing collected packages: python_dotenv\n",
      "Successfully installed python_dotenv-1.0.1\n"
     ]
    }
   ],
   "source": [
    "! pip install python_dotenv"
   ]
  },
  {
   "cell_type": "code",
   "execution_count": 22,
   "metadata": {},
   "outputs": [],
   "source": [
    "import pandas as pd \n",
    "\n",
    "def extract_csv_elements(data_path):\n",
    "    \"\"\"_summary_\n",
    "\n",
    "    Args:\n",
    "        data_path (_str__): csv 경로 \n",
    "    \"\"\"\n",
    "    data = pd.read_csv(data_path, encoding=\"cp949\", sep=\"\\t\")\n",
    "    return data \n"
   ]
  },
  {
   "cell_type": "code",
   "execution_count": 11,
   "metadata": {},
   "outputs": [
    {
     "ename": "NameError",
     "evalue": "name 'extract_csv_elements' is not defined",
     "output_type": "error",
     "traceback": [
      "\u001b[1;31m---------------------------------------------------------------------------\u001b[0m",
      "\u001b[1;31mNameError\u001b[0m                                 Traceback (most recent call last)",
      "Cell \u001b[1;32mIn[11], line 1\u001b[0m\n\u001b[1;32m----> 1\u001b[0m data \u001b[38;5;241m=\u001b[39m \u001b[43mextract_csv_elements\u001b[49m(\u001b[38;5;124m\"\u001b[39m\u001b[38;5;124m../data/2024-2025-mirae_asset.csv\u001b[39m\u001b[38;5;124m\"\u001b[39m)\n\u001b[0;32m      3\u001b[0m \u001b[38;5;28mprint\u001b[39m(data[\u001b[38;5;124m'\u001b[39m\u001b[38;5;124m상세내용\u001b[39m\u001b[38;5;124m'\u001b[39m][\u001b[38;5;241m0\u001b[39m])\n",
      "\u001b[1;31mNameError\u001b[0m: name 'extract_csv_elements' is not defined"
     ]
    }
   ],
   "source": [
    "data = extract_csv_elements(\"../data/2024-2025-mirae_asset.csv\")\n",
    "\n",
    "print(data['상세내용'][0])"
   ]
  },
  {
   "cell_type": "code",
   "execution_count": 304,
   "metadata": {},
   "outputs": [],
   "source": [
    "from pydantic import BaseModel\n",
    "from openai import OpenAI\n",
    "import json\n",
    "\n",
    "\n",
    "# 1. OpenAI client 초기화\n",
    "client = OpenAI()\n",
    "client.api_key = os.getenv(\"OPENAI_API_KEY\")\n",
    "\n",
    "\n",
    "# 2. CoT 데이터셋 Pydantic 모델 정의\n",
    "class CoTDataset(BaseModel):\n",
    "    instruction: str\n",
    "    question: str\n",
    "    complex_cot: str\n",
    "    answer : str \n",
    "\n",
    "\n",
    "# 3. 프롬프트 (너가 준 그대로 사용)\n",
    "from pydantic import BaseModel\n",
    "from openai import OpenAI\n",
    "import json\n",
    "import os\n",
    "\n",
    "# 1. OpenAI client 초기화\n",
    "client = OpenAI()\n",
    "client.api_key = os.getenv(\"OPENAI_API_KEY\")\n",
    "\n",
    "# 2. CoT 데이터셋 Pydantic 모델 정의 (키 변경)\n",
    "class CoTDataset(BaseModel):\n",
    "    instruction: str\n",
    "    question: str\n",
    "    complex_cot: str\n",
    "    answer: str\n",
    "\n",
    "# 3. 프롬프트 (새로운 키 이름 반영)\n",
    "prompt = \"\"\"\n",
    "Context information is below. You are only aware of this context and nothing else.\n",
    "---------------------\n",
    "\n",
    "{context}\n",
    "\n",
    "---------------------\n",
    "Given this context, generate exactly **{num_questions}** question(s), answer(s), and chain-of-thought reasoning.\n",
    "\n",
    "You are a Teacher/Professor in {domain}. \n",
    "Your task is to create exactly {num_questions} diverse question(s) for an upcoming quiz/examination.\n",
    "The question(s) should fully reflect your understanding of the context.\n",
    "You must provide:\n",
    "- A question extracted from the context.\n",
    "- A detailed chain-of-thought (complex_cot) explaining your reasoning process. It should start with \"Chain-of-Thought:\".\n",
    "- A final answer in a complete sentence (in Korean), prefixed with \"정답:\".\n",
    "\n",
    "IMPORTANT:\n",
    "- Return the result in JSON format containing the keys `instruction`, `question`, `complex_cot`, and `answer`.\n",
    "  - `instruction` is fixed: \"다음 Context를 바탕으로 문제 해결 과정을 거쳐 정답을 도출하세요.\"\n",
    "  - `question` must contain the question text.\n",
    "  - `complex_cot` must include the full reasoning process, starting with \"Chain-of-Thought:\".\n",
    "  - `answer` must include only the final answer, prefixed with \"정답:\".\n",
    "- DO NOT use List or Array in JSON. Each QA pair must be a separate JSON object.\n",
    "\n",
    "## Example Output:\n",
    "```json\n",
    "{{\n",
    "    \"instruction\": \"다음 Context를 바탕으로 핵심 내용을 간추려서 문제에 대한 정답과 이유를 완성하세요.\",\n",
    "    \"question\" : \"향후 원/달러 환율에 영향을 줄 수 있는 국내외 주요 변수는 무엇인가요?\",\n",
    "    \"complex_CoT\" : \"첫 번째 변수는 국내 정치적 리스크입니다. 특히 윤석열 대통령 탄핵 심리 판결이 예정되어 있으며, 탄핵 여부에 따라 정치적 불확실성이 확대될 수 있습니다. 만약 탄핵이 인용되면 정치 불안이 커져 원화 약세로 이어질 수 있습니다. 반대로, 탄핵이 기각되고 이후 재정정책이 가속화되면 원화 강세 요인으로 작용할 수 있습니다.\n",
    "두 번째 변수는 대외적 요소로, 미국의 FOMC 회의 결과입니다. FOMC가 예상보다 더 완화적인 신호를 보이면 글로벌 투자심리가 개선되어 원화 강세를 가져올 수 있습니다. 반대로, 금리 동결이나 매파적 신호가 나오면 원화 약세로 작용할 수 있습니다.\n",
    "세 번째로는 BOJ의 정책입니다. 일본의 금리 동결 시 엔화 강세가 제한될 경우 원/엔과의 상대 가치로 원화도 약세를 보일 수 있습니다.\n",
    "마지막으로 글로벌 경기 둔화에 따른 위험 회피 심리가 강화되면 원화 가치가 약세로 작용할 수 있습니다.\",\n",
    "    \"answer\" : \"향후 원/달러 환율은 윤석열 대통령 탄핵 심리 판결, 미국 FOMC 회의 결과, BOJ 정책, 글로벌 경기 둔화 우려 등 국내외 변수에 영향을 받을 것입니다. 특히 탄핵 판결 이후 정치적 불확실성 여부와 재정정책 추진 여부가 원화 방향성에 중요한 영향을 미칠 것으로 보입니다.\" \n",
    "}}\n",
    "\"\"\"\n",
    "\n",
    "\n",
    "\n",
    "# 4. 데이터 생성 함수 정의\n",
    "def generate_cot_dataset(context: str, domain: str = \"AI\", num_questions: int = 3):\n",
    "    filled_prompt = prompt.format(context=context, domain=domain, num_questions=num_questions)\n",
    "\n",
    "    # OpenAI structured output (Pydantic 기반)\n",
    "    completion = client.beta.chat.completions.parse(\n",
    "        model=\"gpt-4o-2024-08-06\",\n",
    "        messages=[\n",
    "            {\"role\": \"system\", \"content\": \"You are a helpful assistant generating Chain of Thought (CoT) datasets.\"},\n",
    "            {\"role\": \"user\", \"content\": \"3.9와 3.11중에 어떤 값이 더 큰 값이니?, 한국말로 대답해줘\"}\n",
    "        ],\n",
    "        response_format=CoTDataset  # Pydantic 기반 응답 파싱\n",
    "    )\n",
    "\n",
    "    # 여러 개가 올 수 있으므로 choices로 받음\n",
    "    structured_outputs = [choice.message.parsed for choice in completion.choices]\n",
    "    return structured_outputs\n",
    "\n"
   ]
  },
  {
   "cell_type": "code",
   "execution_count": 163,
   "metadata": {},
   "outputs": [
    {
     "name": "stdout",
     "output_type": "stream",
     "text": [
      "Collecting openai==0.28\n",
      "  Downloading openai-0.28.0-py3-none-any.whl.metadata (13 kB)\n",
      "Collecting requests>=2.20 (from openai==0.28)\n",
      "  Using cached requests-2.32.3-py3-none-any.whl.metadata (4.6 kB)\n",
      "Requirement already satisfied: tqdm in c:\\users\\user\\desktop\\finance-model\\venv\\lib\\site-packages (from openai==0.28) (4.67.1)\n",
      "Collecting aiohttp (from openai==0.28)\n",
      "  Downloading aiohttp-3.11.14-cp310-cp310-win_amd64.whl.metadata (8.0 kB)\n",
      "Collecting charset-normalizer<4,>=2 (from requests>=2.20->openai==0.28)\n",
      "  Using cached charset_normalizer-3.4.1-cp310-cp310-win_amd64.whl.metadata (36 kB)\n",
      "Requirement already satisfied: idna<4,>=2.5 in c:\\users\\user\\desktop\\finance-model\\venv\\lib\\site-packages (from requests>=2.20->openai==0.28) (3.10)\n",
      "Collecting urllib3<3,>=1.21.1 (from requests>=2.20->openai==0.28)\n",
      "  Using cached urllib3-2.3.0-py3-none-any.whl.metadata (6.5 kB)\n",
      "Requirement already satisfied: certifi>=2017.4.17 in c:\\users\\user\\desktop\\finance-model\\venv\\lib\\site-packages (from requests>=2.20->openai==0.28) (2025.1.31)\n",
      "Collecting aiohappyeyeballs>=2.3.0 (from aiohttp->openai==0.28)\n",
      "  Downloading aiohappyeyeballs-2.6.1-py3-none-any.whl.metadata (5.9 kB)\n",
      "Collecting aiosignal>=1.1.2 (from aiohttp->openai==0.28)\n",
      "  Using cached aiosignal-1.3.2-py2.py3-none-any.whl.metadata (3.8 kB)\n",
      "Collecting async-timeout<6.0,>=4.0 (from aiohttp->openai==0.28)\n",
      "  Using cached async_timeout-5.0.1-py3-none-any.whl.metadata (5.1 kB)\n",
      "Collecting attrs>=17.3.0 (from aiohttp->openai==0.28)\n",
      "  Downloading attrs-25.3.0-py3-none-any.whl.metadata (10 kB)\n",
      "Collecting frozenlist>=1.1.1 (from aiohttp->openai==0.28)\n",
      "  Using cached frozenlist-1.5.0-cp310-cp310-win_amd64.whl.metadata (14 kB)\n",
      "Collecting multidict<7.0,>=4.5 (from aiohttp->openai==0.28)\n",
      "  Using cached multidict-6.1.0-cp310-cp310-win_amd64.whl.metadata (5.1 kB)\n",
      "Collecting propcache>=0.2.0 (from aiohttp->openai==0.28)\n",
      "  Using cached propcache-0.3.0-cp310-cp310-win_amd64.whl.metadata (10 kB)\n",
      "Collecting yarl<2.0,>=1.17.0 (from aiohttp->openai==0.28)\n",
      "  Using cached yarl-1.18.3-cp310-cp310-win_amd64.whl.metadata (71 kB)\n",
      "Requirement already satisfied: colorama in c:\\users\\user\\desktop\\finance-model\\venv\\lib\\site-packages (from tqdm->openai==0.28) (0.4.6)\n",
      "Requirement already satisfied: typing-extensions>=4.1.0 in c:\\users\\user\\desktop\\finance-model\\venv\\lib\\site-packages (from multidict<7.0,>=4.5->aiohttp->openai==0.28) (4.12.2)\n",
      "Downloading openai-0.28.0-py3-none-any.whl (76 kB)\n",
      "Using cached requests-2.32.3-py3-none-any.whl (64 kB)\n",
      "Downloading aiohttp-3.11.14-cp310-cp310-win_amd64.whl (442 kB)\n",
      "Downloading aiohappyeyeballs-2.6.1-py3-none-any.whl (15 kB)\n",
      "Using cached aiosignal-1.3.2-py2.py3-none-any.whl (7.6 kB)\n",
      "Using cached async_timeout-5.0.1-py3-none-any.whl (6.2 kB)\n",
      "Downloading attrs-25.3.0-py3-none-any.whl (63 kB)\n",
      "Using cached charset_normalizer-3.4.1-cp310-cp310-win_amd64.whl (102 kB)\n",
      "Using cached frozenlist-1.5.0-cp310-cp310-win_amd64.whl (51 kB)\n",
      "Using cached multidict-6.1.0-cp310-cp310-win_amd64.whl (28 kB)\n",
      "Using cached propcache-0.3.0-cp310-cp310-win_amd64.whl (44 kB)\n",
      "Using cached urllib3-2.3.0-py3-none-any.whl (128 kB)\n",
      "Using cached yarl-1.18.3-cp310-cp310-win_amd64.whl (90 kB)\n",
      "Installing collected packages: urllib3, propcache, multidict, frozenlist, charset-normalizer, attrs, async-timeout, aiohappyeyeballs, yarl, requests, aiosignal, aiohttp, openai\n",
      "  Attempting uninstall: openai\n",
      "    Found existing installation: openai 1.66.3\n",
      "    Uninstalling openai-1.66.3:\n",
      "      Successfully uninstalled openai-1.66.3\n",
      "Successfully installed aiohappyeyeballs-2.6.1 aiohttp-3.11.14 aiosignal-1.3.2 async-timeout-5.0.1 attrs-25.3.0 charset-normalizer-3.4.1 frozenlist-1.5.0 multidict-6.1.0 openai-0.28.0 propcache-0.3.0 requests-2.32.3 urllib3-2.3.0 yarl-1.18.3\n"
     ]
    }
   ],
   "source": [
    "! pip install openai==0.28"
   ]
  },
  {
   "cell_type": "code",
   "execution_count": 305,
   "metadata": {},
   "outputs": [],
   "source": [
    "test_context = data[\"상세내용\"][1]\n",
    "results = generate_cot_dataset(test_context, domain=\"경제\", num_questions=3)"
   ]
  },
  {
   "cell_type": "code",
   "execution_count": 306,
   "metadata": {},
   "outputs": [
    {
     "data": {
      "text/plain": [
       "[CoTDataset(instruction='두 숫자 중 더 큰 값을 구하는 문제입니다.', question='3.9와 3.11중에 어떤 값이 더 큰 값이니?', complex_cot='첫째 자리 소수 부분을 비교해보면, 두 수 모두 소수점 첫째 자리에서 3으로 같습니다. 둘째 자리 소수 부분을 보면, 3.9는 9이고, 3.11은 1입니다. 하지만, 3.9는 3.90과 같다고 할 수 있고, 여기서 3.90의 소수점 둘째 자리 0과 3.11의 소수점 둘째 자리 1을 비교하면, 1이 0보다 크기 때문에 3.11이 더 큽니다.', answer='3.11이 더 큽니다.')]"
      ]
     },
     "execution_count": 306,
     "metadata": {},
     "output_type": "execute_result"
    }
   ],
   "source": [
    "results"
   ]
  },
  {
   "cell_type": "code",
   "execution_count": 8,
   "metadata": {},
   "outputs": [
    {
     "name": "stdout",
     "output_type": "stream",
     "text": [
      "3.11이 3.9보다 더 큽니다. \n",
      "\n",
      "이유는 소수점 이하의 자리수를 비교했을 때, 3.11의 첫 번째 소수점 이하 숫자인 1이 3.9의 첫 번째 소수점 이하 숫자인 9보다 작기 때문입니다. 따라서 3.11은 3.1(3와 1에 해당하는 부분)과 0.01(0.1과 0.01에 해당하는 부분)을 포함하고, 3.9는 3.9(3와 9에 해당하는 부분)로 더 큰 수가 아닙니다. \n",
      "\n",
      "소수를 비교할 때는 소수점 이하의 자리수를 차례대로 비교해 나가는 방식으로 진행하므로, 최종적으로 3.11이 3.9보다 더 크다는 결론을 내리게 됩니다.\n"
     ]
    }
   ],
   "source": [
    "from openai import OpenAI\n",
    "client = OpenAI()\n",
    "\n",
    "completion = client.chat.completions.create(\n",
    "    model=\"gpt-4o-mini-2024-07-18\",\n",
    "    messages=[\n",
    "        {\n",
    "            \"role\": \"user\",\n",
    "            \"content\": \"3.9와 3.11중에 어떤 값이 더 크니? 왜 그런지 설명도 해봐\"\n",
    "        }\n",
    "    ]\n",
    ")\n",
    "\n",
    "print(completion.choices[0].message.content)"
   ]
  },
  {
   "cell_type": "code",
   "execution_count": 27,
   "metadata": {},
   "outputs": [],
   "source": [
    "\n",
    "prompt_template = \"\"\"\n",
    "Context information is below. You are only aware of this context and nothing else.\n",
    "---------------------\n",
    "\n",
    "{context}\n",
    "\n",
    "---------------------\n",
    "Given this context, generate exactly **{num_questions}** question(s), answer(s), and a detailed explanation.\n",
    "\n",
    "You are a Teacher/Professor in {domain}. \n",
    "Your task is to create exactly {num_questions} diverse question(s) for an upcoming quiz/examination.\n",
    "The question(s) should fully reflect your understanding of the context.\n",
    "You must provide:\n",
    "- A question extracted from the context.\n",
    "- A detailed explanation (provide reasoning, step by step, but do not reveal chain-of-thought in a raw format).\n",
    "- A final answer in a complete sentence (in Korean), prefixed with \"정답:\".\n",
    "\n",
    "IMPORTANT:\n",
    "- You MUST only provide factual and accurate information based on the provided context. Do NOT fabricate or assume any information that is not clearly stated in the context.\n",
    "- You MUST mention the company name '{company_name}' explicitly in both 'question', 'detailed_explanation', and 'answer'. Do NOT use vague expressions like 'the company' or '동사'. You must directly write '{company_name}' when referring to the company.\n",
    "- Return the result in JSON format containing the keys `instruction`, `question`, `detailed_explanation`, and `answer`.\n",
    "  - `instruction` is fixed: \"다음 Context를 바탕으로 문맥과 수치를 참고하여 문제 해결 과정을 거쳐 정답을 도출하세요.\"\n",
    "  - `question` must contain the question text.\n",
    "  - detailed_explanation: Based on the provided context, include specific numerical values related to {company_name} (e.g., revenue, EPS, growth rate, RPO, QoQ, etc.) and explain in detail the logical thought process on how these figures contributed to deriving the final answer.\n",
    "  - answer: Include only the final answer, ensuring that {company_name} is mentioned, and present it concisely.\n",
    "- DO NOT use List or Array in JSON. Each QA pair must be a separate JSON object.\n",
    "\n",
    "## Example Output:\n",
    "```json\n",
    "{{\n",
    "    \"instruction\": \"다음 Context를 바탕으로 문맥과 수치를 참고하여 문제 해결 과정을 거쳐 정답을 도출하세요.\",\n",
    "    \"question\": \"FY4Q24 기간 동안 스타벅스 주가가 3개월 간 30.4% 상승했음에도 불구하고, 이 주가 상승이 악화된 분기 실적과 조화되지 않는 이유는 무엇인가?\",\n",
    "    \"detailed_explanation\": \"FY4Q24 기간 동안 스타벅스의 주요 재무 지표 중에서 '영업이익', '북미 CSSG', '영업이익률 - 인터내셔널' 등이 AI 모델의 예상치를 하회하면서 실적이 전반적으로 악화되었습니다. 그럼에도 불구하고 스타벅스의 주가는 최근 3개월간 오히려 30.4% 상승하는 모습을 보였습니다.\n",
    "이러한 모순이 발생한 첫 번째 이유는 현재 스타벅스의 PER(주가수익비율)이 26.3배로, 과거 평균 PER인 24.1배 대비 높은 수준에서 거래되고 있기 때문입니다. 이는 시장 참여자들이 최근 악화된 분기 실적보다는 스타벅스가 발표한 새로운 전략('스타벅스로 돌아가기') 및 향후 실적 개선 가능성 등 미래 성장에 대한 기대감을 더 강하게 반영하고 있음을 시사합니다.\n",
    "두 번째 이유는 최근 스타벅스의 주가 움직임이 시장 전체 지수와의 상관관계가 약화된 상태에서 이루어졌다는 점입니다. 일반적으로 특정 주식의 주가가 시장 지수와 상관관계가 낮아질 경우, 해당 주식의 가격은 전체 시장 흐름보다는 개별기업 이슈나 기업 고유의 기대감과 같은 내부적 혹은 특정 투자자들의 심리적 요인의 영향을 더 크게 받을 가능성이 높아집니다.\n",
    "이 두 가지 측면을 종합하면, 스타벅스의 현재 주가 상승은 최근의 부진한 재무 실적이 반영되지 않고, 오히려 시장의 미래 기대치와 개별적 투자 요인들로 인해 주가가 높게 형성된 것으로 분석할 수 있습니다.\",\n",
    "    \"answer\": \"스타벅스 주가 상승은 과거 대비 높은 PER 수준에서 나타난 시장의 미래 성장 기대감과, 시장 지수와의 상관관계 약화로 인해 실적 악화가 주가에 적절히 반영되지 않았기 때문입니다.\"\n",
    "}}\n",
    "\"\"\"\n",
    "\n",
    "\n",
    "\n",
    "def main(data: str, idx: int):\n",
    "    # 3) 필요한 변수 세팅\n",
    "    context = data[\"상세내용\"][idx]\n",
    "    domain = \"경제\"\n",
    "    num_questions = 1\n",
    "\n",
    "    # 실제 질문\n",
    "\n",
    "    # 4) prompt_template.format(...)로 지시사항을 채우고, 뒤에 실제 질문을 연결\n",
    "    user_content = (\n",
    "        prompt_template.format(context=context, domain=domain, num_questions=num_questions)\n",
    "    )\n",
    "\n",
    "    # 5) ChatCompletion 호출 (system 메시지 없음, user 메시지만 사용)\n",
    "    response = client.chat.completions.create(\n",
    "        model=\"o1-mini-2024-09-12\",\n",
    "        messages=[\n",
    "            {\n",
    "                \"role\": \"user\",\n",
    "                \"content\": user_content\n",
    "            }\n",
    "        ]\n",
    "    )\n",
    "\n",
    "    # 6) 결과 출력\n",
    "    return response.choices[0].message.content"
   ]
  },
  {
   "cell_type": "code",
   "execution_count": 232,
   "metadata": {},
   "outputs": [
    {
     "data": {
      "text/plain": [
       "['```json\\n{\\n    \"instruction\": \"다음 Context를 바탕으로 문맥과 수치를 참고하여 문제 해결 과정을 거쳐 정답을 도출하세요.\",\\n    \"question\": \"경제학에서 \\'더\\'의 의미는 무엇인가?\",\\n    \"detailed_explanation\": \"주어진 컨텍스트는 \\'더\\'라는 단어 하나뿐입니다. 한국어에서 \\'더\\'는 \\'더 많이\\', \\'추가적으로\\', \\'더욱\\' 등의 의미로 사용되며, 경제학에서는 일반적으로 추가적인 양이나 증가를 나타내는 부사로 활용됩니다. 예를 들어, 기업의 생산량을 \\'더\\' 증가시키거나 소비자의 지출을 \\'더\\' 유도하는 상황에서 사용될 수 있습니다.\",\\n    \"answer\": \"정답: \\'더\\'는 경제학에서 추가적인 양이나 증가를 나타내는 의미로 사용됩니다.\"\\n}\\n```',\n",
       " '```json\\n{\\n    \"instruction\": \"다음 Context를 바탕으로 문맥과 수치를 참고하여 문제 해결 과정을 거쳐 정답을 도출하세요.\",\\n    \"question\": \"\\'기\\'라는 단어가 경제학에서 사용될 때 어떤 의미를 가질 수 있는지 설명하시오.\",\\n    \"detailed_explanation\": \"주어진 컨텍스트는 단어 \\'기\\' 하나로 제한되어 있습니다. \\'기\\'는 한국어에서 다양한 의미를 가질 수 있으며, 경제학에서는 주로 \\'기초\\', \\'기술\\', \\'기금\\' 등으로 사용될 수 있습니다. 예를 들어, \\'기초 자본\\'은 사업을 시작하는 데 필요한 기본 자본을 의미할 수 있고, \\'기술 혁신\\'은 경제 성장에 중요한 요소로 작용할 수 있습니다. 또한, \\'기금\\'은 특정 목적을 위해 마련된 재원을 의미하기도 합니다. 따라서 \\'기\\'는 문맥에 따라 다양한 경제적 개념을 나타낼 수 있습니다.\",\\n    \"answer\": \"정답: \\'기\\'는 경제학에서 문맥에 따라 \\'기초\\', \\'기술\\', \\'기금\\' 등 다양한 의미로 사용될 수 있습니다.\"\\n}\\n```',\n",
       " '```json\\n{\\n    \"instruction\": \"다음 Context를 바탕으로 문맥과 수치를 참고하여 문제 해결 과정을 거쳐 정답을 도출하세요.\",\\n    \"question\": \"제공된 컨텍스트가 없어 문제를 생성할 수 없습니다.\",\\n    \"detailed_explanation\": \"사용자가 제공한 컨텍스트 정보가 비어있어 문제를 생성할 수 없습니다. 문제를 생성하기 위해서는 관련된 컨텍스트 정보가 필요합니다.\",\\n    \"answer\": \"정답: 제공된 컨텍스트가 없어 정답을 도출할 수 없습니다.\"\\n}\\n```',\n",
       " '```json\\n{\\n    \"instruction\": \"다음 Context를 바탕으로 문맥과 수치를 참고하여 문제 해결 과정을 거쳐 정답을 도출하세요.\",\\n    \"question\": \"제공된 컨텍스트 정보가 없어 문제를 생성할 수 없습니다.\",\\n    \"detailed_explanation\": \"사용자가 제공한 컨텍스트 정보가 비어 있어, 이를 기반으로 질문을 생성할 수 없습니다.\",\\n    \"answer\": \"정답: 제공된 정보가 없어 정답을 도출할 수 없습니다.\"\\n}\\n```',\n",
       " '```json\\n{\\n    \"instruction\": \"다음 Context를 바탕으로 문맥과 수치를 참고하여 문제 해결 과정을 거쳐 정답을 도출하세요.\",\\n    \"question\": \"제공된 컨텍스트가 없어 문제를 생성할 수 없습니다.\",\\n    \"detailed_explanation\": \"사용자가 제공한 컨텍스트가 비어있기 때문에, 해당 정보를 바탕으로 질문을 생성할 수 없습니다.\",\\n    \"answer\": \"정답: 제공된 컨텍스트가 없어 정답을 도출할 수 없습니다.\"\\n}\\n```']"
      ]
     },
     "execution_count": 232,
     "metadata": {},
     "output_type": "execute_result"
    }
   ],
   "source": [
    "data_lst"
   ]
  },
  {
   "cell_type": "code",
   "execution_count": 13,
   "metadata": {},
   "outputs": [],
   "source": [
    "import pandas as pd \n",
    "data = pd.read_csv(\"../data/2024-2025-mirae_asset.csv\", encoding=\"cp949\", sep=\"\\t\")"
   ]
  },
  {
   "cell_type": "code",
   "execution_count": 31,
   "metadata": {},
   "outputs": [],
   "source": [
    "tmps = data.iloc[1003:1004]"
   ]
  },
  {
   "cell_type": "code",
   "execution_count": 32,
   "metadata": {},
   "outputs": [
    {
     "data": {
      "text/html": [
       "<div>\n",
       "<style scoped>\n",
       "    .dataframe tbody tr th:only-of-type {\n",
       "        vertical-align: middle;\n",
       "    }\n",
       "\n",
       "    .dataframe tbody tr th {\n",
       "        vertical-align: top;\n",
       "    }\n",
       "\n",
       "    .dataframe thead th {\n",
       "        text-align: right;\n",
       "    }\n",
       "</style>\n",
       "<table border=\"1\" class=\"dataframe\">\n",
       "  <thead>\n",
       "    <tr style=\"text-align: right;\">\n",
       "      <th></th>\n",
       "      <th>Unnamed: 0</th>\n",
       "      <th>회사명</th>\n",
       "      <th>번호</th>\n",
       "      <th>매수의견</th>\n",
       "      <th>view1</th>\n",
       "      <th>view2</th>\n",
       "      <th>압축설명</th>\n",
       "      <th>상세URL</th>\n",
       "      <th>상세내용</th>\n",
       "    </tr>\n",
       "  </thead>\n",
       "  <tbody>\n",
       "    <tr>\n",
       "      <th>1003</th>\n",
       "      <td>1003</td>\n",
       "      <td>엔비디아</td>\n",
       "      <td>NVDA US</td>\n",
       "      <td>Not Rated</td>\n",
       "      <td>2323319</td>\n",
       "      <td>199</td>\n",
       "      <td>1Q 실적 Quick review</td>\n",
       "      <td>https://securities.miraeasset.com/bbs/board/me...</td>\n",
       "      <td>1Q 실적 Quick review주가는 우선 Blackwell 자체에 환호 동사의 ...</td>\n",
       "    </tr>\n",
       "  </tbody>\n",
       "</table>\n",
       "</div>"
      ],
      "text/plain": [
       "      Unnamed: 0   회사명       번호       매수의견    view1  view2  \\\n",
       "1003        1003  엔비디아  NVDA US  Not Rated  2323319    199   \n",
       "\n",
       "                    압축설명                                              상세URL  \\\n",
       "1003  1Q 실적 Quick review  https://securities.miraeasset.com/bbs/board/me...   \n",
       "\n",
       "                                                   상세내용  \n",
       "1003  1Q 실적 Quick review주가는 우선 Blackwell 자체에 환호 동사의 ...  "
      ]
     },
     "execution_count": 32,
     "metadata": {},
     "output_type": "execute_result"
    }
   ],
   "source": [
    "tmps"
   ]
  },
  {
   "cell_type": "code",
   "execution_count": 30,
   "metadata": {},
   "outputs": [
    {
     "data": {
      "text/plain": [
       "'1Q 실적 Quick review주가는 우선 Blackwell 자체에 환호 동사의 1분기 실적은 매출액 $26.0B(YoY +262%, QoQ +17.8%), GPM 78.9%를 기록하며 시장 기대치를 상회했다. Gaming 및 ProVis 사업부의 QoQ -7 ~ 8%대 감소에도 불구하고 데이터센터향 매출액이 QoQ +22.6% 증가하며 전사 실적을 견인했다. 한편 HGX보드와 GPU에 치중되어 있던 수요가 GB200 시스템을 비롯한 시스템 사업으로 이동하는 추세가 확인되며, 이는 100가지가 넘는 컴퓨터 시스템 구성을 보유한 Blackwell 플랫폼을 기반으로 확장된 제품 포트폴리오에 기인한다. 클라우드와 기업고객 모두에게서 수요가 강세였다. 테슬라의 Training AI cluster는 H100 GPU 35,000개 규모로 확장되었고, 메타의 LLM인 Llama 3는 24,000개의 H100 GPU로 학습되었다. H100에 비해 추론성능이 2배 가까이 개선된 H200은 1Q에 샘플링을 시작했으며 2Q 양산을 계획대로 진행중이다. 첫번째 H200 제품은 OpenAI에 공급되었으며 이를 기반으로 GPT-4o의 데모가 이뤄졌다. 차기 플랫폼인 Blackwell의 경우 2Q(5 ~ 7월)내 초도물량 출하 예정이며, 3Q내 양산 개시, 4Q에 데이터센터에 탑재될 것으로 예상했다. 초도물량 출하 시기가 시장 기대(2Q) 보다 이르게 전개되는 모습이다. Blackwell은 H100 대비 4배의 학습속도와 30배의 추론속도를 가능케 하며 25배의 유지비용 절감을 가능케 한다. 2분기 실적은 매출액 $28.0B(YoY +107%, QoQ +7.5%), GPM 75.5%로 시장 기대치를 상회했다. 수익성은 임계점에 다다른 것으로 판단되나, Hopper 수요 강세, H200/Blackwell 전환 등 수요과잉 상황에 매출액 성장은 지속될 것으로 전망된다. 금년도 연간 GPM은 70% 중반대 범위로 제시했다. 단기적 관점에서는 B100, GB200 나아가 X100 등 프로세서 출시와 성과에 주목할 수 있으나, 이러한 프로세서는 결국 AI 생태계를 구현하기 위한 수단의 의미가 크다. 본격적으로 AI 생태계가 구축되기 시작하면 동사가 집중적으로 육성하고 있는 다음과 같은 분야의 파급력이 더 크다고 판단하며 중장기 투자포인트로 주목한다.향후 주목해야 할 포인트 AI 모델은 점차 더 많은 학습 데이터를 필요로 할 것인데 현실세계에 존재하는 데이터는 한계가 있다. 동사의 1) 옴니버스 환경에서 생성되는 합성데이터가 모델의 고도화를 촉진할 것이다. 또한, 2) 자율주행과 휴머노이드 로봇의 OS 및 두뇌를 동사의 Thor 기반으로 표준화하게 될 것이며, 3) 디바이스 단위를 넘어 기업 단위, 나아가 주권을 강화한 국가 단위의 AI 모델도 동사의 플랙폼 하에 구축하게 될 것이다.**** 자세한 내용은 첨부파일을 참고하시기 바랍니다.'"
      ]
     },
     "execution_count": 30,
     "metadata": {},
     "output_type": "execute_result"
    }
   ],
   "source": [
    "data[\"상세내용\"][1003]"
   ]
  },
  {
   "cell_type": "code",
   "execution_count": 21,
   "metadata": {},
   "outputs": [
    {
     "ename": "KeyError",
     "evalue": "'company_name'",
     "output_type": "error",
     "traceback": [
      "\u001b[1;31m---------------------------------------------------------------------------\u001b[0m",
      "\u001b[1;31mKeyError\u001b[0m                                  Traceback (most recent call last)",
      "Cell \u001b[1;32mIn[21], line 1\u001b[0m\n\u001b[1;32m----> 1\u001b[0m tmp \u001b[38;5;241m=\u001b[39m \u001b[43mmain\u001b[49m\u001b[43m(\u001b[49m\u001b[43mdata\u001b[49m\u001b[43m,\u001b[49m\u001b[43m \u001b[49m\u001b[38;5;241;43m497\u001b[39;49m\u001b[43m)\u001b[49m\n",
      "Cell \u001b[1;32mIn[9], line 50\u001b[0m, in \u001b[0;36mmain\u001b[1;34m(data, idx)\u001b[0m\n\u001b[0;32m     44\u001b[0m num_questions \u001b[38;5;241m=\u001b[39m \u001b[38;5;241m1\u001b[39m\n\u001b[0;32m     46\u001b[0m \u001b[38;5;66;03m# 실제 질문\u001b[39;00m\n\u001b[0;32m     47\u001b[0m \n\u001b[0;32m     48\u001b[0m \u001b[38;5;66;03m# 4) prompt_template.format(...)로 지시사항을 채우고, 뒤에 실제 질문을 연결\u001b[39;00m\n\u001b[0;32m     49\u001b[0m user_content \u001b[38;5;241m=\u001b[39m (\n\u001b[1;32m---> 50\u001b[0m     \u001b[43mprompt_template\u001b[49m\u001b[38;5;241;43m.\u001b[39;49m\u001b[43mformat\u001b[49m\u001b[43m(\u001b[49m\u001b[43mcontext\u001b[49m\u001b[38;5;241;43m=\u001b[39;49m\u001b[43mcontext\u001b[49m\u001b[43m,\u001b[49m\u001b[43m \u001b[49m\u001b[43mdomain\u001b[49m\u001b[38;5;241;43m=\u001b[39;49m\u001b[43mdomain\u001b[49m\u001b[43m,\u001b[49m\u001b[43m \u001b[49m\u001b[43mnum_questions\u001b[49m\u001b[38;5;241;43m=\u001b[39;49m\u001b[43mnum_questions\u001b[49m\u001b[43m)\u001b[49m\n\u001b[0;32m     51\u001b[0m )\n\u001b[0;32m     53\u001b[0m \u001b[38;5;66;03m# 5) ChatCompletion 호출 (system 메시지 없음, user 메시지만 사용)\u001b[39;00m\n\u001b[0;32m     54\u001b[0m response \u001b[38;5;241m=\u001b[39m client\u001b[38;5;241m.\u001b[39mchat\u001b[38;5;241m.\u001b[39mcompletions\u001b[38;5;241m.\u001b[39mcreate(\n\u001b[0;32m     55\u001b[0m     model\u001b[38;5;241m=\u001b[39m\u001b[38;5;124m\"\u001b[39m\u001b[38;5;124mo1-mini-2024-09-12\u001b[39m\u001b[38;5;124m\"\u001b[39m,\n\u001b[0;32m     56\u001b[0m     messages\u001b[38;5;241m=\u001b[39m[\n\u001b[1;32m   (...)\u001b[0m\n\u001b[0;32m     61\u001b[0m     ]\n\u001b[0;32m     62\u001b[0m )\n",
      "\u001b[1;31mKeyError\u001b[0m: 'company_name'"
     ]
    }
   ],
   "source": [
    "tmp = main(data, 497)"
   ]
  },
  {
   "cell_type": "code",
   "execution_count": 220,
   "metadata": {},
   "outputs": [
    {
     "data": {
      "text/plain": [
       "{'instruction': '다음 Context를 바탕으로 문맥과 수치를 참고하여 문제 해결 과정을 거쳐 정답을 도출하세요.',\n",
       " 'question': 'Firefly가 주도하는 AI 제품의 현재 ARR은 얼마이며, FY25까지의 목표 ARR은 얼마입니까? 또한, 이를 달성하기 위한 주요 성장 동력은 무엇인가요?',\n",
       " 'detailed_explanation': '컨텍스트에 따르면 Firefly의 AI 제품인 Acrobat AI Assistant, Firefly, GenStudio 등의 ARR은 현재 1.25억 달러입니다. 기업은 FY25까지 이 ARR을 2배 이상으로 확대하려는 목표를 설정하였습니다. 이를 달성하기 위한 주요 성장 동력으로는 고객들이 Firefly의 AI 기능을 활용하기 위해 상위 플랜으로 업그레이드하는 AI 업셀링 증가와 Firefly Standard/Pro/Premium 요금제의 독립형 구독 모델 출시를 통한 신규 수익원 확보가 있습니다.',\n",
       " 'answer': '정답: Firefly의 현재 ARR은 1.25억 달러이며, FY25까지 목표 ARR은 2.5억 달러입니다. 이를 달성하기 위한 주요 성장 동력은 AI 업셀링 증가와 독립형 구독 모델 출시입니다.'}"
      ]
     },
     "execution_count": 220,
     "metadata": {},
     "output_type": "execute_result"
    }
   ],
   "source": [
    "json.loads(tmp[8:-4])"
   ]
  },
  {
   "cell_type": "code",
   "execution_count": 45,
   "metadata": {},
   "outputs": [],
   "source": [
    "import os\n",
    "from openai import OpenAI\n",
    "import pandas as pd\n",
    "import time\n",
    "\n",
    "# OpenAI 클라이언트 설정\n",
    "client = OpenAI()\n",
    "client.api_key = os.getenv(\"OPENAI_API_KEY\")  \n",
    "\n",
    "prompt_template = \"\"\"\n",
    "Context information is below. You are only aware of this context and nothing else.\n",
    "---------------------\n",
    "\n",
    "{context}\n",
    "\n",
    "---------------------\n",
    "Given this context, generate exactly **{num_questions}** question(s), answer(s), and a detailed explanation.\n",
    "\n",
    "You are a Teacher/Professor in {domain}. \n",
    "Your task is to create exactly {num_questions} diverse question(s) for an upcoming quiz/examination.\n",
    "The question(s) should fully reflect your understanding of the context.\n",
    "You must provide:\n",
    "- A question extracted from the context.\n",
    "- A detailed explanation (provide reasoning, step by step, but do not reveal chain-of-thought in a raw format).\n",
    "- A final answer in a complete sentence (in Korean), prefixed with \"정답:\".\n",
    "\n",
    "IMPORTANT:\n",
    "- You MUST only provide factual and accurate information based on the provided context. Do NOT fabricate or assume any information that is not clearly stated in the context.\n",
    "- You MUST mention the company name '{company_name}' explicitly in both 'question', 'detailed_explanation', and 'answer'. Do NOT use vague expressions like 'the company' or '동사'. You must directly write '{company_name}' when referring to the company.\n",
    "- Return the result in JSON format containing the keys `instruction`, `question`, `detailed_explanation`, and `answer`.\n",
    "  - `instruction` is fixed: \"다음 Context를 바탕으로 문맥과 수치를 참고하여 문제 해결 과정을 거쳐 정답을 도출하세요.\"\n",
    "  - `question` must contain the question text.\n",
    "  - detailed_explanation: Based on the provided context, include specific numerical values related to {company_name} (e.g., revenue, EPS, growth rate, RPO, QoQ, etc.) and explain in detail the logical thought process on how these figures contributed to deriving the final answer.\n",
    "  - answer: Include only the final answer, ensuring that {company_name} is mentioned, and present it concisely.\n",
    "- DO NOT use List or Array in JSON. Each QA pair must be a separate JSON object.\n",
    "\n",
    "## Example Output:\n",
    "```json\n",
    "{{\n",
    "    \"instruction\": \"다음 Context를 바탕으로 문맥과 수치를 참고하여 문제 해결 과정을 거쳐 정답을 도출하세요.\",\n",
    "    \"question\": \"FY4Q24 기간 동안 스타벅스 주가가 3개월 간 30.4% 상승했음에도 불구하고, 이 주가 상승이 악화된 분기 실적과 조화되지 않는 이유는 무엇인가?\",\n",
    "    \"detailed_explanation\": \"FY4Q24 기간 동안 스타벅스의 주요 재무 지표 중에서 '영업이익', '북미 CSSG', '영업이익률 - 인터내셔널' 등이 AI 모델의 예상치를 하회하면서 실적이 전반적으로 악화되었습니다. 그럼에도 불구하고 스타벅스의 주가는 최근 3개월간 오히려 30.4% 상승하는 모습을 보였습니다.\n",
    "이러한 모순이 발생한 첫 번째 이유는 현재 스타벅스의 PER(주가수익비율)이 26.3배로, 과거 평균 PER인 24.1배 대비 높은 수준에서 거래되고 있기 때문입니다. 이는 시장 참여자들이 최근 악화된 분기 실적보다는 스타벅스가 발표한 새로운 전략('스타벅스로 돌아가기') 및 향후 실적 개선 가능성 등 미래 성장에 대한 기대감을 더 강하게 반영하고 있음을 시사합니다.\n",
    "두 번째 이유는 최근 스타벅스의 주가 움직임이 시장 전체 지수와의 상관관계가 약화된 상태에서 이루어졌다는 점입니다. 일반적으로 특정 주식의 주가가 시장 지수와 상관관계가 낮아질 경우, 해당 주식의 가격은 전체 시장 흐름보다는 개별기업 이슈나 기업 고유의 기대감과 같은 내부적 혹은 특정 투자자들의 심리적 요인의 영향을 더 크게 받을 가능성이 높아집니다.\n",
    "이 두 가지 측면을 종합하면, 스타벅스의 현재 주가 상승은 최근의 부진한 재무 실적이 반영되지 않고, 오히려 시장의 미래 기대치와 개별적 투자 요인들로 인해 주가가 높게 형성된 것으로 분석할 수 있습니다.\",\n",
    "    \"answer\": \"스타벅스 주가 상승은 과거 대비 높은 PER 수준에서 나타난 시장의 미래 성장 기대감과, 시장 지수와의 상관관계 약화로 인해 실적 악화가 주가에 적절히 반영되지 않았기 때문입니다.\"\n",
    "}}\n",
    "\"\"\"\n",
    "\n",
    "# 1) 데이터 한 건에 대해 OpenAI 호출하는 함수\n",
    "def call_openai_api(context: str, company_name: str, domain: str = \"경제\", num_questions: int = 1):\n",
    "    # 프롬프트 채우기\n",
    "    user_content = prompt_template.format(\n",
    "        context=context,\n",
    "        domain=domain,\n",
    "        num_questions=num_questions,\n",
    "        company_name=company_name  # 회사명을 명시적으로 넣어줌\n",
    "    )\n",
    "\n",
    "    # 2. API 호출\n",
    "    response = client.chat.completions.create(\n",
    "        model=\"gpt-4o-2024-11-20\",\n",
    "        messages=[\n",
    "            {\"role\": \"user\", \"content\": user_content}\n",
    "        ],\n",
    "    )\n",
    "\n",
    "    # 3. 결과 반환\n",
    "    return response.choices[0].message.content\n",
    "\n",
    "\n",
    "# 2) 전체 데이터프레임을 순회하면서 API 호출\n",
    "def process_data(df: pd.DataFrame, context_column: str = \"상세내용\", company_column: str = \"회사명\"):\n",
    "    results = []\n",
    "    \n",
    "    for idx, row in df.iloc[:5].iterrows():\n",
    "        context = row[context_column]\n",
    "        company_name = row[company_column]  # 회사명 추가로 받아오기\n",
    "        try:\n",
    "            print(f\"[INFO] Processing index {idx}, Company: {company_name}...\")\n",
    "            result = json.loads(call_openai_api(context=context, company_name=company_name)[8:-4])\n",
    "            results.append({\n",
    "                \"index\": idx,\n",
    "                \"company_name\": company_name,\n",
    "                \"context\": context,\n",
    "                \"result\": result\n",
    "            })\n",
    "            time.sleep(1)  # API 요청 간 간격\n",
    "        except Exception as e:\n",
    "            print(f\"[ERROR] Failed to process index {idx}: {e}\")\n",
    "            results.append({\n",
    "                \"index\": idx,\n",
    "                \"company_name\": company_name,\n",
    "                \"context\": context,\n",
    "                \"result\": None,\n",
    "                \"error\": str(e)\n",
    "            })\n",
    "\n",
    "    return results\n"
   ]
  },
  {
   "cell_type": "code",
   "execution_count": 46,
   "metadata": {},
   "outputs": [
    {
     "name": "stdout",
     "output_type": "stream",
     "text": [
      "[INFO] Processing index 0, Company: 어도비...\n",
      "[INFO] Processing index 1, Company: LG에너지솔루션...\n",
      "[INFO] Processing index 2, Company: 오라클...\n",
      "[INFO] Processing index 3, Company: [월간 리서치 - 증권] 키움증권...\n",
      "[INFO] Processing index 4, Company: [월간 리서치 - 증권]  NH투자증권...\n",
      "\n",
      "=== Index 0 ===\n",
      "{'instruction': '다음 Context를 바탕으로 문맥과 수치를 참고하여 문제 해결 과정을 거쳐 정답을 도출하세요.', 'question': '어도비의 FY2Q25 가이던스에서 제시된 매출 전망과 Non-GAAP EPS가 투자자들에게 아쉬움을 남긴 이유는 무엇인가?', 'detailed_explanation': '어도비는 FY2Q25 가이던스에서 매출을 57.7-58.2억 달러로, Non-GAAP EPS를 4.95-5달러로 예상했습니다. 이 수치는 시장 예상치였던 매출 58억 달러와 EPS 5달러를 모두 소폭 하회하는 결과를 나타냅니다. 매출 전망의 경우, 하단인 57.7억 달러는 시장 예상 대비 낮고, 상단도 58억 달러와 일치하지만 더 나은 기대치를 충족하지 못했습니다. 마찬가지로 Non-GAAP EPS도 4.95-5달러로 제시했는데, 이는 시장 기대치 최소값인 5달러와 같은 수준 또는 그 이하로 나타나 시장의 기대를 낮추는 영향을 미쳤습니다. 이러한 가이던스는 어도비가 지속적인 성장 동력은 갖추고 있으나, 현재 시장 내 경쟁 심화와 AI 수익화 속도의 완만함 등이 기대보다 더 긍정적이지 않은 요인으로 작용했을 가능성을 시사합니다. 가이던스 수치가 실적 기대치를 상회하지 못한 점이 투자자들에게 아쉬움을 남긴 핵심 이유가 됩니다.', 'answer': '정답: 어도비의 FY2Q25 가이던스에서 매출 57.7-58.2억 달러와 Non-GAAP EPS 4.95-5달러는 시장 예상치(매출 58억 달러, EPS 5달러)를 소폭 하회하며 투자자들의 기대에 미치지 못했습니다.'}\n",
      "\n",
      "=== Index 1 ===\n",
      "{'instruction': '다음 Context를 바탕으로 문맥과 수치를 참고하여 문제 해결 과정을 거쳐 정답을 도출하세요.', 'question': '2025년 1분기 LG에너지솔루션의 매출액 및 영업이익 추정치가 상향 조정된 주요 이유는 무엇인가?', 'detailed_explanation': 'Context에서 제시된 내용을 기반으로 LG에너지솔루션의 2025년 1분기 매출액과 영업이익 추정치가 각각 6.2조원 및 1,270억원으로 상향 조정된 것으로 나타났습니다. 이 추정치는 기존 매출액 대비 6% 상향, 기존 영업이익 적자 추정치(-1,060억원)에서 흑자 1,270억원으로 변경된 것입니다. 이러한 실적 추정치 상향의 구체적 이유로는, 첫째, 3월에 중국 남경 공장에서 Tesla Model Y 신규 모델을 위한 원통형 배터리 출하가 시작된 점이 있으며, 둘째, 예상보다 견조한 연초 유럽 전기차(EV) 수요, 특히 폭스바겐 중심의 매출 증가가 반영되었습니다. 마지막으로 주요 메탈 가격의 하향 안정화가 배터리 원가 구조를 개선하면서 스프레드가 점진적으로 개선된 점이 실적 향상에 기여한 것으로 판단됩니다. 이러한 논리적 흐름을 통해 매출 및 영업이익 추정치 상향 조정 이유를 도출할 수 있습니다.', 'answer': '정답: LG에너지솔루션의 2025년 1분기 매출액 및 영업이익 추정치가 상향 조정된 이유는 3월 중국 남경 공장에서 Tesla Model Y 신규 모델을 위한 원통형 배터리 출하 시작, 유럽 EV 수요 증가(특히 폭스바겐 중심), 그리고 메탈 가격 하향 안정화로 인한 원가 구조 개선 때문입니다.'}\n",
      "\n",
      "=== Index 2 ===\n",
      "{'instruction': '다음 Context를 바탕으로 문맥과 수치를 참고하여 문제 해결 과정을 거쳐 정답을 도출하세요.', 'question': '오라클의 최근 클라우드 관련 실적에서 FY27까지 공격적 성장 가이던스를 제시한 배경과 주요 경쟁력을 설명하세요.', 'detailed_explanation': '오라클은 FY25~FY27 기간 동안 연평균 매출 성장률을 FY26의 +15%, FY27의 +20%로 전망하며 시장의 기대를 크게 웃도는 가이던스를 제시했습니다. 이를 뒷받침하는 주요 요소로는 크게 세 가지가 있습니다. 첫째, 오라클은 클라우드 부문에서 SaaS+IaaS 매출 62억 달러(+25% YoY), OCI 매출 +51% YoY 및 OCI 소비 매출 +57% YoY의 높은 성장률을 기록하며 경쟁 우위를 유지하고 있습니다. 특히 학습(training) 연산 관련 GPU 소비 매출이 전년 대비 3.5배 증가하는 등 AI 수요에 대응한 클라우드 매출이 급격히 확대되었습니다. 둘째, 해당 실적에는 스타게이트 관련 매출이 포함되지 않았으나, 향후 부가적인 클라우드 사용량 증가로 이어질 것으로 기대되고 있습니다. 셋째, 오라클은 NVIDIA의 GB200 GPU와 AMD의 MI355X를 활용한 대규모 AI 트레이닝 클러스터를 구축하며 FY25 이후 늘어나는 추론 연산 수요를 충족하기 위한 기술적 기반을 강화하고 있습니다. 아울러, 클라우드 데이터베이스와 관련해 온프레미스 데이터의 멀티클라우드 연동 및 의료 솔루션 같은 전략적 SaaS 제품이 경쟁력을 갖추고 있어, 이러한 기술력과 제품군이 오라클의 FY27까지의 성장 가이던스 자신감을 뒷받침하고 있다고 분석됩니다.', 'answer': '오라클의 FY27 공격적 성장 가이던스는 AI 수요 기반의 클라우드 매출 성장, 향후 스타게이트 관련 매출 증가 기대, 그리고 대규모 AI 트레이닝 클러스터 구축 등 기술적 경쟁력 및 멀티클라우드와 전략적 SaaS 제품군의 우위에 근거하고 있습니다.'}\n",
      "\n",
      "=== Index 3 ===\n",
      "{'instruction': '다음 Context를 바탕으로 문맥과 수치를 참고하여 문제 해결 과정을 거쳐 정답을 도출하세요.', 'question': '[월간 리서치 - 증권] 키움증권의 목표주가가 150,000원에서 160,000원으로 상향된 주요 이유는 무엇입니까?', 'detailed_explanation': 'Context에 따르면 [월간 리서치 - 증권] 키움증권의 목표주가가 기존 150,000원에서 160,000원으로 상향된 이유는 크게 두 가지로 요약됩니다. 첫째, 넥스트레이드의 출범으로 거래대금이 증가할 것으로 예상되며, 키움증권은 국내 주식 위탁매매 수수료수익 비중이 매우 높아 이러한 성장의 직접적인 수혜를 받을 것으로 보이기 때문입니다. 둘째, 규정상 거래대금이 일정 수준(거래소의 15%)을 초과할 경우 제한이 있지만, 올해 3분기까지는 해당 규제가 적용되지 않으며, 향후 규제도 실제 거래대금을 반영해 완화될 가능성이 제시되었습니다. 이를 반영하여 2025년 이익 추정치가 6.5% 상향 조정되었으며, 이에 따라 목표주가도 6.7% 상향되었습니다.', 'answer': '정답: [월간 리서치 - 증권] 키움증권의 목표주가 상향 이유는 넥스트레이드 출범으로 인한 거래대금 증가 수혜와 규제 완화 가능성을 반영하여 2025년 이익 추정치를 6.5% 상향 조정했기 때문입니다.'}\n",
      "\n",
      "=== Index 4 ===\n",
      "{'instruction': '다음 Context를 바탕으로 문맥과 수치를 참고하여 문제 해결 과정을 거쳐 정답을 도출하세요.', 'question': '[월간 리서치 - 증권] NH투자증권의 목표주가가 17,000원에서 18,000원으로 상향 조정된 주요 이유는 무엇인가?', 'detailed_explanation': '[월간 리서치 - 증권] NH투자증권의 목표주가가 17,000원에서 18,000원으로 상향 조정된 이유는 여러 가지 요인에서 찾을 수 있습니다. 첫 번째로, 넥스트레이드 출범으로 인해 거래대금 증가의 수혜가 예상되며, 이로 인해 2025년 이익 추정치를 5.3% 상향 조정하였기 때문입니다. [월간 리서치 - 증권] NH투자증권은 모든 시장 참여 증권사 14곳 중 하나로, 거래대금 확대에 따른 순영업수익 증가의 수혜를 온전히 받을 것으로 예상됩니다. 특히, 국내 주식 위탁매매 수수료수익 비중이 높아서 이익 기여도가 상승할 전망이라는 점이 중요한 포인트입니다. 또한, 주주환원정책도 목표주가 상승의 중요한 요소입니다. 예를 들어, 2024년 기준 배당수익률이 6.8%, 주주환원수익률이 7.9%에 달하며, 더 나아가 2025년에는 주당배당금 1,050원과 자사주 매입·소각을 통해 배당수익률 7.1%, 주주환원수익률 8.1%를 기대할 수 있습니다. 이와 같은 강한 주주환원 의지와 실적 개선 전망이 목표주가 상향의 논리적 배경으로 작용했습니다.', 'answer': '정답: [월간 리서치 - 증권] NH투자증권의 목표주가 상향은 넥스트레이드 출범에 따른 거래대금 증가로 2025년 이익 추정치가 5.3% 상향된 점과 강한 주주환원정책이 반영된 결과입니다.'}\n"
     ]
    }
   ],
   "source": [
    "import json\n",
    "\n",
    "processed_results = process_data(data, context_column=\"상세내용\")\n",
    "\n",
    "# 결과 확인\n",
    "for res in processed_results:\n",
    "    print(f\"\\n=== Index {res['index']} ===\")\n",
    "    print(res[\"result\"])"
   ]
  },
  {
   "cell_type": "code",
   "execution_count": 47,
   "metadata": {},
   "outputs": [
    {
     "name": "stdout",
     "output_type": "stream",
     "text": [
      "instruction: 다음 Context를 바탕으로 문맥과 수치를 참고하여 문제 해결 과정을 거쳐 정답을 도출하세요.\n",
      "question: 어도비의 FY2Q25 가이던스에서 제시된 매출 전망과 Non-GAAP EPS가 투자자들에게 아쉬움을 남긴 이유는 무엇인가?\n",
      "detailed_explanation: 어도비는 FY2Q25 가이던스에서 매출을 57.7-58.2억 달러로, Non-GAAP EPS를 4.95-5달러로 예상했습니다. 이 수치는 시장 예상치였던 매출 58억 달러와 EPS 5달러를 모두 소폭 하회하는 결과를 나타냅니다. 매출 전망의 경우, 하단인 57.7억 달러는 시장 예상 대비 낮고, 상단도 58억 달러와 일치하지만 더 나은 기대치를 충족하지 못했습니다. 마찬가지로 Non-GAAP EPS도 4.95-5달러로 제시했는데, 이는 시장 기대치 최소값인 5달러와 같은 수준 또는 그 이하로 나타나 시장의 기대를 낮추는 영향을 미쳤습니다. 이러한 가이던스는 어도비가 지속적인 성장 동력은 갖추고 있으나, 현재 시장 내 경쟁 심화와 AI 수익화 속도의 완만함 등이 기대보다 더 긍정적이지 않은 요인으로 작용했을 가능성을 시사합니다. 가이던스 수치가 실적 기대치를 상회하지 못한 점이 투자자들에게 아쉬움을 남긴 핵심 이유가 됩니다.\n",
      "answer: 정답: 어도비의 FY2Q25 가이던스에서 매출 57.7-58.2억 달러와 Non-GAAP EPS 4.95-5달러는 시장 예상치(매출 58억 달러, EPS 5달러)를 소폭 하회하며 투자자들의 기대에 미치지 못했습니다.\n",
      "instruction: 다음 Context를 바탕으로 문맥과 수치를 참고하여 문제 해결 과정을 거쳐 정답을 도출하세요.\n",
      "question: 2025년 1분기 LG에너지솔루션의 매출액 및 영업이익 추정치가 상향 조정된 주요 이유는 무엇인가?\n",
      "detailed_explanation: Context에서 제시된 내용을 기반으로 LG에너지솔루션의 2025년 1분기 매출액과 영업이익 추정치가 각각 6.2조원 및 1,270억원으로 상향 조정된 것으로 나타났습니다. 이 추정치는 기존 매출액 대비 6% 상향, 기존 영업이익 적자 추정치(-1,060억원)에서 흑자 1,270억원으로 변경된 것입니다. 이러한 실적 추정치 상향의 구체적 이유로는, 첫째, 3월에 중국 남경 공장에서 Tesla Model Y 신규 모델을 위한 원통형 배터리 출하가 시작된 점이 있으며, 둘째, 예상보다 견조한 연초 유럽 전기차(EV) 수요, 특히 폭스바겐 중심의 매출 증가가 반영되었습니다. 마지막으로 주요 메탈 가격의 하향 안정화가 배터리 원가 구조를 개선하면서 스프레드가 점진적으로 개선된 점이 실적 향상에 기여한 것으로 판단됩니다. 이러한 논리적 흐름을 통해 매출 및 영업이익 추정치 상향 조정 이유를 도출할 수 있습니다.\n",
      "answer: 정답: LG에너지솔루션의 2025년 1분기 매출액 및 영업이익 추정치가 상향 조정된 이유는 3월 중국 남경 공장에서 Tesla Model Y 신규 모델을 위한 원통형 배터리 출하 시작, 유럽 EV 수요 증가(특히 폭스바겐 중심), 그리고 메탈 가격 하향 안정화로 인한 원가 구조 개선 때문입니다.\n",
      "instruction: 다음 Context를 바탕으로 문맥과 수치를 참고하여 문제 해결 과정을 거쳐 정답을 도출하세요.\n",
      "question: 오라클의 최근 클라우드 관련 실적에서 FY27까지 공격적 성장 가이던스를 제시한 배경과 주요 경쟁력을 설명하세요.\n",
      "detailed_explanation: 오라클은 FY25~FY27 기간 동안 연평균 매출 성장률을 FY26의 +15%, FY27의 +20%로 전망하며 시장의 기대를 크게 웃도는 가이던스를 제시했습니다. 이를 뒷받침하는 주요 요소로는 크게 세 가지가 있습니다. 첫째, 오라클은 클라우드 부문에서 SaaS+IaaS 매출 62억 달러(+25% YoY), OCI 매출 +51% YoY 및 OCI 소비 매출 +57% YoY의 높은 성장률을 기록하며 경쟁 우위를 유지하고 있습니다. 특히 학습(training) 연산 관련 GPU 소비 매출이 전년 대비 3.5배 증가하는 등 AI 수요에 대응한 클라우드 매출이 급격히 확대되었습니다. 둘째, 해당 실적에는 스타게이트 관련 매출이 포함되지 않았으나, 향후 부가적인 클라우드 사용량 증가로 이어질 것으로 기대되고 있습니다. 셋째, 오라클은 NVIDIA의 GB200 GPU와 AMD의 MI355X를 활용한 대규모 AI 트레이닝 클러스터를 구축하며 FY25 이후 늘어나는 추론 연산 수요를 충족하기 위한 기술적 기반을 강화하고 있습니다. 아울러, 클라우드 데이터베이스와 관련해 온프레미스 데이터의 멀티클라우드 연동 및 의료 솔루션 같은 전략적 SaaS 제품이 경쟁력을 갖추고 있어, 이러한 기술력과 제품군이 오라클의 FY27까지의 성장 가이던스 자신감을 뒷받침하고 있다고 분석됩니다.\n",
      "answer: 오라클의 FY27 공격적 성장 가이던스는 AI 수요 기반의 클라우드 매출 성장, 향후 스타게이트 관련 매출 증가 기대, 그리고 대규모 AI 트레이닝 클러스터 구축 등 기술적 경쟁력 및 멀티클라우드와 전략적 SaaS 제품군의 우위에 근거하고 있습니다.\n",
      "instruction: 다음 Context를 바탕으로 문맥과 수치를 참고하여 문제 해결 과정을 거쳐 정답을 도출하세요.\n",
      "question: [월간 리서치 - 증권] 키움증권의 목표주가가 150,000원에서 160,000원으로 상향된 주요 이유는 무엇입니까?\n",
      "detailed_explanation: Context에 따르면 [월간 리서치 - 증권] 키움증권의 목표주가가 기존 150,000원에서 160,000원으로 상향된 이유는 크게 두 가지로 요약됩니다. 첫째, 넥스트레이드의 출범으로 거래대금이 증가할 것으로 예상되며, 키움증권은 국내 주식 위탁매매 수수료수익 비중이 매우 높아 이러한 성장의 직접적인 수혜를 받을 것으로 보이기 때문입니다. 둘째, 규정상 거래대금이 일정 수준(거래소의 15%)을 초과할 경우 제한이 있지만, 올해 3분기까지는 해당 규제가 적용되지 않으며, 향후 규제도 실제 거래대금을 반영해 완화될 가능성이 제시되었습니다. 이를 반영하여 2025년 이익 추정치가 6.5% 상향 조정되었으며, 이에 따라 목표주가도 6.7% 상향되었습니다.\n",
      "answer: 정답: [월간 리서치 - 증권] 키움증권의 목표주가 상향 이유는 넥스트레이드 출범으로 인한 거래대금 증가 수혜와 규제 완화 가능성을 반영하여 2025년 이익 추정치를 6.5% 상향 조정했기 때문입니다.\n",
      "instruction: 다음 Context를 바탕으로 문맥과 수치를 참고하여 문제 해결 과정을 거쳐 정답을 도출하세요.\n",
      "question: [월간 리서치 - 증권] NH투자증권의 목표주가가 17,000원에서 18,000원으로 상향 조정된 주요 이유는 무엇인가?\n",
      "detailed_explanation: [월간 리서치 - 증권] NH투자증권의 목표주가가 17,000원에서 18,000원으로 상향 조정된 이유는 여러 가지 요인에서 찾을 수 있습니다. 첫 번째로, 넥스트레이드 출범으로 인해 거래대금 증가의 수혜가 예상되며, 이로 인해 2025년 이익 추정치를 5.3% 상향 조정하였기 때문입니다. [월간 리서치 - 증권] NH투자증권은 모든 시장 참여 증권사 14곳 중 하나로, 거래대금 확대에 따른 순영업수익 증가의 수혜를 온전히 받을 것으로 예상됩니다. 특히, 국내 주식 위탁매매 수수료수익 비중이 높아서 이익 기여도가 상승할 전망이라는 점이 중요한 포인트입니다. 또한, 주주환원정책도 목표주가 상승의 중요한 요소입니다. 예를 들어, 2024년 기준 배당수익률이 6.8%, 주주환원수익률이 7.9%에 달하며, 더 나아가 2025년에는 주당배당금 1,050원과 자사주 매입·소각을 통해 배당수익률 7.1%, 주주환원수익률 8.1%를 기대할 수 있습니다. 이와 같은 강한 주주환원 의지와 실적 개선 전망이 목표주가 상향의 논리적 배경으로 작용했습니다.\n",
      "answer: 정답: [월간 리서치 - 증권] NH투자증권의 목표주가 상향은 넥스트레이드 출범에 따른 거래대금 증가로 2025년 이익 추정치가 5.3% 상향된 점과 강한 주주환원정책이 반영된 결과입니다.\n"
     ]
    }
   ],
   "source": [
    "for i in processed_results:\n",
    "    for j,k in i[\"result\"].items():\n",
    "        print(f\"{j}: {k}\")\n",
    "        "
   ]
  },
  {
   "cell_type": "code",
   "execution_count": 44,
   "metadata": {},
   "outputs": [
    {
     "name": "stdout",
     "output_type": "stream",
     "text": [
      "더 확실한 한 방이 필요한 시점견조한 실적, 아쉬운 가이던스 FY1Q25 예상을 상회하는 실적을 발표했다. 매출 57.1억달러(+10% YoY, 예상치 56.6억달러 상회), Non-GAAP EPS 5.08달러(+13% YoY, 예상치 4.97달러 상회)를 기록했다. 그러나 가이던스가 예상을 하회했다. FY2Q25 가이던스로 매출 57.7-58.2억달러(예상치 58억달러 하회), Non-GAAP EPS 4.95-5달러(예상치 5달러 하회)를 제시했다. FY25 가이던스는 매출 233-235.5억달러, Non-GAAP EPS 20.2-20.5달러로, 예상치를 소폭 하회했다.Firefly가 주도한 AI 성과 Firefly의 성과는 조금씩 가시화되고 있다. Acrobat AI Assistant, Firefly, GenStudio 등 독립형 AI 제품의 ARR은 1.25억달러였다. FY25까지 해당 ARR을 2배 이상 확대하겠다는 목표를 제시했다. 고객들이 Firefly AI 기능을 활용하기 위해 상위 플랜으로 업그레이드하는 AI 업셀링 증가가 주된 성장 동력으로 작용했다. 또한, Firefly Standard/Pro/Premium 요금제의 독립형 구독 모델 출시를 통해 신규 수익원을 확보한 점도 긍정적이다. 현재 유료 사용자 중 90% 이상이 Firefly의 비디오 생성 기능을 활용 중이다. Firefly가 고객에게 실질적인 가치를 제공한다는 점에서 추가 구독률과 도입률 증가 가능성은 높다고 판단한다. 그러나 실적 기여도가 아직까지는 크지 않다. 현재까지의 AI 매출은 대부분 Creative Cloud 사업부에서 발생하고 있다. AI 성장 가속화를 위해 AI Assistant 등 Document Cloud 사업부에서의 AI 매출 기여도 확대가 필요한 상황이다.AI 수익화 속도가 관건 동사는 이번 실적 발표에서 현재까지의 AI 도입 속도와 수익화 가능성에 만족하고 있다고 코멘트했다. 그러나 현재 AI 관련 매출은 전체 연간 매출의 한 자릿수 비중에 불과하다. 다음주에 예정된 FAA 미팅에서 보다 구체적 AI 계획을 공유할 것이라고 밝혔다. 생성 AI 경쟁이 심화되는 가운데, 상황을 반전하기 위한 강력한 한 방이 필요한 시점이라고 판단한다. 현재 관세나 무역 전쟁 등 불확실한 매크로 상황에서도 FY25 가이던스를 유지할 수 있을 것으로 예상한다. 다양한 산업군을 대상으로 사업을 운영하고 있으며, 고객층도 분산되어 있기에 동사에 미치는 직접적 영향은 제한적인 상황이다.**** 자세한 내용은 첨부파일을 참고하시기 바랍니다.\n",
      "\n",
      "\n"
     ]
    }
   ],
   "source": [
    "print(f\"{data['상세내용'][0]}\\n\\n\")"
   ]
  },
  {
   "cell_type": "code",
   "execution_count": 303,
   "metadata": {},
   "outputs": [
    {
     "data": {
      "text/plain": [
       "{'instruction': '다음 Context를 바탕으로 문맥과 수치를 참고하여 문제 해결 과정을 거쳐 정답을 도출하세요.',\n",
       " 'question': 'LG에너지솔루션의 1분기 2025년 매출액과 영업이익 추정치가 상향 조정된 이유는 무엇인가?',\n",
       " 'detailed_explanation': 'LG에너지솔루션의 1분기 2025년 매출액이 기존 예측보다 6% 상승한 6.2조 원으로, 영업이익 역시 기존의 영업손실 예상치에서 1,270억 원의 흑자로 변경되었습니다. 이러한 상향 조정의 주요 이유는 세 가지로 요약됩니다. 첫째, 3월에 중국 남경 공장에서 Tesla Model Y의 신규 모델 향 원통형 셀 출하가 시작되면서 배터리 출하량이 증가하였습니다. 둘째, 예상보다 견조한 유럽 전기차(EV) 수요, 특히 폭스바겐을 중심으로 한 수요 증가가 매출에 긍정적인 영향을 미쳤습니다. 셋째, 리튬, 니켈, 코발트 등 주요 메탈의 가격이 최근 하향 안정화되면서 원가 부담이 줄어들고, 판가 스프레드가 개선되어 영업이익이 상승하였습니다. 이러한 요소들이 종합적으로 작용하여 LG에너지솔루션의 1분기 실적이 기존 예상보다 긍정적으로 상향 조정되었습니다.',\n",
       " 'answer': 'LG에너지솔루션의 1분기 2025년 매출액과 영업이익 상향 조정은 Tesla Model Y 신규 모델 출하 증가, 유럽 폭스바겐 중심의 견조한 EV 수요, 그리고 주요 메탈 가격 안정화로 인한 원가 절감이 주요 원인입니다.'}"
      ]
     },
     "execution_count": 303,
     "metadata": {},
     "output_type": "execute_result"
    }
   ],
   "source": [
    "[i[\"result\"] for i in processed_results][1]"
   ]
  },
  {
   "cell_type": "markdown",
   "metadata": {},
   "source": [
    "## 결론\n",
    "\n",
    "1. "
   ]
  },
  {
   "cell_type": "code",
   "execution_count": null,
   "metadata": {},
   "outputs": [],
   "source": []
  }
 ],
 "metadata": {
  "kernelspec": {
   "display_name": "venv",
   "language": "python",
   "name": "python3"
  },
  "language_info": {
   "codemirror_mode": {
    "name": "ipython",
    "version": 3
   },
   "file_extension": ".py",
   "mimetype": "text/x-python",
   "name": "python",
   "nbconvert_exporter": "python",
   "pygments_lexer": "ipython3",
   "version": "3.10.0"
  }
 },
 "nbformat": 4,
 "nbformat_minor": 2
}
